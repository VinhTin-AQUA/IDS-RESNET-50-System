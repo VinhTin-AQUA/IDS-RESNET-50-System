{
 "cells": [
  {
   "cell_type": "code",
   "execution_count": 8,
   "metadata": {},
   "outputs": [],
   "source": [
    "from scipy.stats import spearmanr, rankdata\n",
    "from scipy.spatial.distance import pdist, squareform\n",
    "\n",
    "import matplotlib.pyplot as plt\n",
    "import numpy as np\n",
    "import os\n",
    "import pandas as pd\n",
    "import shutil\n",
    "import time\n",
    "import _pickle as cp\n",
    "import sys\n",
    "from astropy.stats import median_absolute_deviation\n",
    "from sklearn.preprocessing import QuantileTransformer\n",
    "from sklearn.preprocessing import MinMaxScaler\n",
    "import random\n",
    "from sklearn.model_selection import train_test_split\n",
    "\n",
    "\n",
    "from PIL import Image"
   ]
  },
  {
   "cell_type": "code",
   "execution_count": 9,
   "metadata": {},
   "outputs": [
    {
     "data": {
      "text/plain": [
       "110587"
      ]
     },
     "execution_count": 9,
     "metadata": {},
     "output_type": "execute_result"
    }
   ],
   "source": [
    "# xem số lượng ảnh\n",
    "\n",
    "image_data_dir= './datasets/CIC-DDoS2019/image data'\n",
    "\n",
    "allimgs=[]\n",
    "for subdir in os.listdir(image_data_dir):\n",
    "    for filename in os.listdir(os.path.join(image_data_dir,subdir)):\n",
    "        filepath=os.path.join(image_data_dir,subdir,filename)\n",
    "        allimgs.append(filepath)\n",
    "len(allimgs) # In tổng số hình ảnh"
   ]
  },
  {
   "cell_type": "code",
   "execution_count": 10,
   "metadata": {},
   "outputs": [],
   "source": [
    "# Hàm phân chia các ảnh thành 3 danh sách theo tỷ lệ 60%-20%-20%\n",
    "def split_images(image_paths):\n",
    "    random.shuffle(image_paths)  # Xáo trộn các ảnh để phân phối ngẫu nhiên\n",
    "    total_images = len(image_paths)\n",
    "    \n",
    "    # Tính toán số lượng ảnh cho mỗi phần\n",
    "    split_1_count = int(total_images * 0.6)\n",
    "    split_2_count = int(total_images * 0.2)\n",
    "    \n",
    "    split_1 = image_paths[:split_1_count]\n",
    "    split_2 = image_paths[split_1_count:split_1_count + split_2_count]\n",
    "    split_3 = image_paths[split_1_count + split_2_count:]\n",
    "    \n",
    "    return split_1, split_2, split_3"
   ]
  },
  {
   "cell_type": "code",
   "execution_count": 11,
   "metadata": {},
   "outputs": [],
   "source": [
    "# Hàm lấy tất cả các ảnh từ thư mục con\n",
    "def get_images_from_subdir(subdir):\n",
    "    image_paths = []\n",
    "    for dirpath, _, filenames in os.walk(subdir):\n",
    "        for filename in filenames:\n",
    "            if filename.lower().endswith(('.png', '.jpg', '.jpeg', '.bmp', '.gif', '.tiff')):\n",
    "                image_paths.append(os.path.join(dirpath, filename))\n",
    "    return image_paths"
   ]
  },
  {
   "cell_type": "code",
   "execution_count": 12,
   "metadata": {},
   "outputs": [],
   "source": [
    "# Hàm sao chép ảnh vào thư mục đích tương ứng\n",
    "def copy_images_to_split_folders(image_list, dest_folder, subdir):\n",
    "    for image_path in image_list:\n",
    "        # Tạo cấu trúc thư mục con giống như trong subdir\n",
    "        relative_path = os.path.relpath(image_path, subdir)\n",
    "        dest_image_path = os.path.join(dest_folder, relative_path)\n",
    "        \n",
    "        os.makedirs(os.path.dirname(dest_image_path), exist_ok=True)  # Tạo thư mục nếu chưa tồn tại\n",
    "        shutil.copy2(image_path, dest_image_path)  # Sao chép ảnh vào thư mục đích"
   ]
  },
  {
   "cell_type": "code",
   "execution_count": 13,
   "metadata": {},
   "outputs": [],
   "source": [
    "# Hàm chính để chia ảnh từ từng thư mục con trong A\n",
    "def split_images_in_subdirectories(root_dir, dest_dir_60, dest_dir_20_1, dest_dir_20_2):\n",
    "    # Lấy danh sách các thư mục con trong thư mục A\n",
    "    subdirectories = [os.path.join(root_dir, d) for d in os.listdir(root_dir) if os.path.isdir(os.path.join(root_dir, d))]\n",
    "    \n",
    "    # Lặp qua từng thư mục con (B, C, D,...)\n",
    "    for subdir in subdirectories:\n",
    "        print(f\"Đang xử lý thư mục: {subdir}\")\n",
    "        \n",
    "        # Lấy tất cả ảnh từ thư mục con\n",
    "        images = get_images_from_subdir(subdir)\n",
    "\n",
    "        # vì dữ liệu quá nhiều, train rất lâu nên chỉ dùng 10% của tập dữ liệu\n",
    "        temp_len = len(images)\n",
    "        split_1_count = int(temp_len * 0.1)\n",
    "        temp_of_ten_percent = images[:split_1_count]\n",
    "\n",
    "        \n",
    "        # Phân chia ảnh theo tỷ lệ 60%-20%-20%\n",
    "        split_60, split_20_1, split_20_2 = split_images(temp_of_ten_percent)\n",
    "        \n",
    "        # Tạo thư mục con tương ứng trong các thư mục đích và sao chép ảnh\n",
    "        subdir_name = os.path.basename(subdir)  # Tên thư mục con (ví dụ: B, C, D)\n",
    "        copy_images_to_split_folders(split_60, os.path.join(dest_dir_60, subdir_name), subdir)\n",
    "        copy_images_to_split_folders(split_20_1, os.path.join(dest_dir_20_1, subdir_name), subdir)\n",
    "        copy_images_to_split_folders(split_20_2, os.path.join(dest_dir_20_2, subdir_name), subdir)"
   ]
  },
  {
   "cell_type": "code",
   "execution_count": 14,
   "metadata": {},
   "outputs": [],
   "source": [
    "\n",
    "# Đường dẫn đến các thư mục tách ra\n",
    "split_1_directory = './datasets/CIC-DDoS2019/train'\n",
    "split_2_directory = './datasets/CIC-DDoS2019/val'\n",
    "split_3_directory = './datasets/CIC-DDoS2019/test'\n",
    "os.makedirs(split_1_directory, exist_ok=True)\n",
    "os.makedirs(split_2_directory, exist_ok=True)\n",
    "os.makedirs(split_3_directory, exist_ok=True)\n"
   ]
  },
  {
   "cell_type": "code",
   "execution_count": 15,
   "metadata": {},
   "outputs": [
    {
     "name": "stdout",
     "output_type": "stream",
     "text": [
      "Đang xử lý thư mục: ./datasets/CIC-DDoS2019/image data\\Benign\n",
      "Đang xử lý thư mục: ./datasets/CIC-DDoS2019/image data\\LDAP\n",
      "Đang xử lý thư mục: ./datasets/CIC-DDoS2019/image data\\MSSQL\n",
      "Đang xử lý thư mục: ./datasets/CIC-DDoS2019/image data\\NetBIOS\n",
      "Đang xử lý thư mục: ./datasets/CIC-DDoS2019/image data\\Portmap\n",
      "Đang xử lý thư mục: ./datasets/CIC-DDoS2019/image data\\Syn\n",
      "Đang xử lý thư mục: ./datasets/CIC-DDoS2019/image data\\UDP\n",
      "Đang xử lý thư mục: ./datasets/CIC-DDoS2019/image data\\UDPLag\n"
     ]
    }
   ],
   "source": [
    "# Gọi hàm chia ảnh từ các thư mục con trong A\n",
    "split_images_in_subdirectories(image_data_dir, split_1_directory, split_2_directory, split_3_directory)\n"
   ]
  }
 ],
 "metadata": {
  "kernelspec": {
   "display_name": ".venv",
   "language": "python",
   "name": "python3"
  },
  "language_info": {
   "codemirror_mode": {
    "name": "ipython",
    "version": 3
   },
   "file_extension": ".py",
   "mimetype": "text/x-python",
   "name": "python",
   "nbconvert_exporter": "python",
   "pygments_lexer": "ipython3",
   "version": "3.12.5"
  }
 },
 "nbformat": 4,
 "nbformat_minor": 2
}
