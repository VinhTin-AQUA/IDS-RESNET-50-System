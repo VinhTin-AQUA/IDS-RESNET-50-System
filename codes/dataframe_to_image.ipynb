{
 "cells": [
  {
   "cell_type": "code",
   "execution_count": 21,
   "metadata": {},
   "outputs": [],
   "source": [
    "from scipy.stats import spearmanr, rankdata\n",
    "from scipy.spatial.distance import pdist, squareform\n",
    "\n",
    "import matplotlib.pyplot as plt\n",
    "import numpy as np\n",
    "import os\n",
    "import pandas as pd\n",
    "import shutil\n",
    "import time\n",
    "import _pickle as cp\n",
    "import sys\n",
    "from astropy.stats import median_absolute_deviation\n",
    "from sklearn.preprocessing import QuantileTransformer\n",
    "from sklearn.preprocessing import MinMaxScaler\n",
    "\n",
    "from PIL import Image"
   ]
  },
  {
   "cell_type": "markdown",
   "metadata": {},
   "source": [
    "## đọc dữ liệu"
   ]
  },
  {
   "cell_type": "code",
   "execution_count": 22,
   "metadata": {},
   "outputs": [],
   "source": [
    "# Đọc dữ liệu từ file CSV\n",
    "full_data = pd.read_csv('./ddos/train csv/LDAP-training.csv')"
   ]
  },
  {
   "cell_type": "code",
   "execution_count": 23,
   "metadata": {},
   "outputs": [],
   "source": [
    "full_data.columns"
   ]
  },
  {
   "cell_type": "code",
   "execution_count": 24,
   "metadata": {},
   "outputs": [
    {
     "data": {
      "text/plain": [
       "75"
      ]
     },
     "execution_count": 24,
     "metadata": {},
     "output_type": "execute_result"
    }
   ],
   "source": [
    "# chọn đặc trưng\n",
    "\n",
    "labels = full_data['Label']\n",
    "\n",
    "selected_columns = ['Total Fwd Packets', 'Total Backward Packets',\n",
    "       'Fwd Packets Length Total', 'Bwd Packets Length Total',\n",
    "       'Fwd Packet Length Max', 'Fwd Packet Length Min',\n",
    "       'Fwd Packet Length Mean', 'Fwd Packet Length Std',\n",
    "       'Bwd Packet Length Max', 'Bwd Packet Length Min',\n",
    "       'Bwd Packet Length Mean', 'Bwd Packet Length Std', 'Flow Bytes/s',\n",
    "       'Flow Packets/s', 'Flow IAT Mean', 'Flow IAT Std', 'Flow IAT Max',\n",
    "       'Flow IAT Min', 'Fwd IAT Total', 'Fwd IAT Mean', 'Fwd IAT Std',\n",
    "       'Fwd IAT Max', 'Fwd IAT Min', 'Bwd IAT Total', 'Bwd IAT Mean',\n",
    "       'Bwd IAT Std', 'Bwd IAT Max', 'Bwd IAT Min', 'Fwd PSH Flags',\n",
    "       'Bwd PSH Flags', 'Fwd URG Flags', 'Bwd URG Flags', 'Fwd Header Length',\n",
    "       'Bwd Header Length', 'Fwd Packets/s', 'Bwd Packets/s',\n",
    "       'Packet Length Min', 'Packet Length Max', 'Packet Length Mean',\n",
    "       'Packet Length Std', 'Packet Length Variance', 'FIN Flag Count',\n",
    "       'SYN Flag Count', 'RST Flag Count', 'PSH Flag Count', 'ACK Flag Count',\n",
    "       'URG Flag Count', 'CWE Flag Count', 'ECE Flag Count', 'Down/Up Ratio',\n",
    "       'Avg Packet Size', 'Avg Fwd Segment Size', 'Avg Bwd Segment Size',\n",
    "       'Fwd Avg Bytes/Bulk', 'Fwd Avg Packets/Bulk', 'Fwd Avg Bulk Rate',\n",
    "       'Bwd Avg Bytes/Bulk', 'Bwd Avg Packets/Bulk', 'Bwd Avg Bulk Rate',\n",
    "       'Subflow Fwd Packets', 'Subflow Fwd Bytes', 'Subflow Bwd Packets',\n",
    "       'Subflow Bwd Bytes', 'Init Fwd Win Bytes', 'Init Bwd Win Bytes',\n",
    "       'Fwd Act Data Packets', 'Fwd Seg Size Min', 'Active Mean', 'Active Std',\n",
    "       'Active Max', 'Active Min', 'Idle Mean', 'Idle Std', 'Idle Max',\n",
    "       'Idle Min']\n",
    "\n",
    "data = full_data[selected_columns]\n",
    "\n",
    "len(selected_columns)"
   ]
  },
  {
   "cell_type": "markdown",
   "metadata": {},
   "source": [
    "## tách dataframe theo các nhãn"
   ]
  },
  {
   "cell_type": "code",
   "execution_count": 25,
   "metadata": {},
   "outputs": [],
   "source": [
    "\n",
    "# tách tập dữ liệu theo label\n",
    "\n",
    "## Nhóm dữ liệu theo cột 'Label'\n",
    "grouped = full_data.groupby('Label')\n",
    "\n",
    "## Tạo dictionary để lưu các DataFrame tương ứng với từng nhãn\n",
    "dfs = {label: group for label, group in grouped}\n",
    "\n",
    "## Kiểm tra một số DataFrame vừa tạo ra\n",
    "# for label, df_label in dfs.items():\n",
    "    # print(f\"DataFrame cho label {label}:\")\n",
    "    # print(df_label)\n",
    "    # print(\"\\n\")"
   ]
  },
  {
   "cell_type": "markdown",
   "metadata": {},
   "source": [
    "## chuyển sang hình ảnh\n",
    "\n",
    "- B1: chuẩn hóa dữ liệu về [0;1]\n",
    "- lưu ảnh và thư mục của từng nhãn"
   ]
  },
  {
   "cell_type": "markdown",
   "metadata": {},
   "source": [
    "#### hàm chuyển đổi sang hình ảnh"
   ]
  },
  {
   "cell_type": "code",
   "execution_count": 26,
   "metadata": {},
   "outputs": [],
   "source": [
    "def convert_to_img(data_normalized, label):\n",
    "    # Chuyển đổi mỗi hàng thành hình ảnh\n",
    "\n",
    "    folder_path = f'./Results/Test_3/{label}'\n",
    "\n",
    "    # Kiểm tra nếu thư mục đã tồn tại\n",
    "    if not os.path.exists(folder_path):\n",
    "        os.makedirs(folder_path)\n",
    "\n",
    "    for index, row in data_normalized.iterrows():\n",
    "\n",
    "        image_array = np.array(row).reshape((5, 15))  # hiện tại chọn 75 đặc trưng nên chọn reshape với kích thước 5x15 = 75\n",
    "        image_array = np.nan_to_num(image_array)  # Thay thế các giá trị không hợp lệ bằng 0\n",
    "        image = Image.fromarray((image_array * 255).astype(np.uint8)) # nhân 255 để chuyển sang giá trị RGB\n",
    "       \n",
    "        image = image.resize((224, 224))  # Chuyển đổi kích thước hình ảnh thành 224x224 (thường train model dùng kích thước này)\n",
    "        image.save(f'{folder_path}/image_{index}.png')\n",
    "\n",
    "# Đọc và hiển thị một hình ảnh mẫu\n",
    "# image = Image.open('./Results/Test_3/LDAP-training/image_0.png')\n",
    "# image.show()"
   ]
  },
  {
   "cell_type": "code",
   "execution_count": 28,
   "metadata": {},
   "outputs": [
    {
     "name": "stderr",
     "output_type": "stream",
     "text": [
      "c:\\Users\\NewTun\\Desktop\\Data to image test\\test\\.venv\\Lib\\site-packages\\pandas\\core\\internals\\blocks.py:393: RuntimeWarning: divide by zero encountered in log1p\n",
      "  result = func(self.values, **kwargs)\n",
      "c:\\Users\\NewTun\\Desktop\\Data to image test\\test\\.venv\\Lib\\site-packages\\pandas\\core\\internals\\blocks.py:393: RuntimeWarning: invalid value encountered in log1p\n",
      "  result = func(self.values, **kwargs)\n",
      "c:\\Users\\NewTun\\Desktop\\Data to image test\\test\\.venv\\Lib\\site-packages\\pandas\\core\\nanops.py:1016: RuntimeWarning: invalid value encountered in subtract\n",
      "  sqr = _ensure_numeric((avg - values) ** 2)\n",
      "c:\\Users\\NewTun\\Desktop\\Data to image test\\test\\.venv\\Lib\\site-packages\\pandas\\core\\internals\\blocks.py:393: RuntimeWarning: divide by zero encountered in log1p\n",
      "  result = func(self.values, **kwargs)\n",
      "c:\\Users\\NewTun\\Desktop\\Data to image test\\test\\.venv\\Lib\\site-packages\\pandas\\core\\internals\\blocks.py:393: RuntimeWarning: invalid value encountered in log1p\n",
      "  result = func(self.values, **kwargs)\n",
      "c:\\Users\\NewTun\\Desktop\\Data to image test\\test\\.venv\\Lib\\site-packages\\pandas\\core\\nanops.py:1016: RuntimeWarning: invalid value encountered in subtract\n",
      "  sqr = _ensure_numeric((avg - values) ** 2)\n",
      "c:\\Users\\NewTun\\Desktop\\Data to image test\\test\\.venv\\Lib\\site-packages\\pandas\\core\\internals\\blocks.py:393: RuntimeWarning: divide by zero encountered in log1p\n",
      "  result = func(self.values, **kwargs)\n",
      "c:\\Users\\NewTun\\Desktop\\Data to image test\\test\\.venv\\Lib\\site-packages\\pandas\\core\\internals\\blocks.py:393: RuntimeWarning: invalid value encountered in log1p\n",
      "  result = func(self.values, **kwargs)\n",
      "c:\\Users\\NewTun\\Desktop\\Data to image test\\test\\.venv\\Lib\\site-packages\\pandas\\core\\nanops.py:1016: RuntimeWarning: invalid value encountered in subtract\n",
      "  sqr = _ensure_numeric((avg - values) ** 2)\n"
     ]
    }
   ],
   "source": [
    "\n",
    "for label, df_label in dfs.items():\n",
    "\n",
    "    # chọn đặc trưng\n",
    "    data_features = df_label[selected_columns]\n",
    "\n",
    "\n",
    "    ''' tiền xử lý '''\n",
    "    # Chuyển đổi các giá trị thành số, các giá trị không thể chuyển đổi sẽ trở thành NaN\n",
    "    # data = data.apply(pd.to_numeric, errors='coerce')\n",
    "\n",
    "    # Loại bỏ các hàng chứa giá trị NaN\n",
    "    # data = data.dropna()\n",
    "\n",
    "    ''' chuẩn hóa dữ liệu Min-Max Scaling '''\n",
    "    # data_min_max_scaled = (data_features - data_features.min()) / (data_features.max() - data_features.min())\n",
    "    # data_normalized = data_min_max_scaled\n",
    "    # convert_to_img(data_normalized, label)\n",
    "\n",
    "\n",
    "    ''' chuẩn hóa dữ liệu Standardization '''\n",
    "    data_features = np.log1p(data_features + 1)\n",
    "    data_standardized = (data_features - data_features.mean()) / data_features.std()\n",
    "    data_normalized = data_standardized\n",
    "    convert_to_img(data_normalized, label)  \n",
    "\n",
    "\n",
    "    ''' chuẩn hóa dữ liệu Log Transformation '''\n",
    "    # ddata_log_transformed = np.log1p(data_features)\n",
    "    # data_normalized = ddata_log_transformed\n",
    "    # convert_to_img(data_normalized, label)  \n",
    "\n",
    "    ''' kết hợp tất cả phương pháp chuẩn hóa '''\n",
    "    # data_min_max_scaled = (data_features - data_features.min()) / (data_features.max() - data_features.min())\n",
    "\n",
    "    # data_features = np.log1p(data_min_max_scaled + 1)\n",
    "    # data_standardized = (data_features - data_features.mean()) / data_features.std()\n",
    "\n",
    "    # ddata_log_transformed = np.log1p(data_standardized)\n",
    "    # data_normalized = ddata_log_transformed\n",
    "    # convert_to_img(data_normalized, label)  \n",
    "    "
   ]
  }
 ],
 "metadata": {
  "kernelspec": {
   "display_name": ".venv",
   "language": "python",
   "name": "python3"
  },
  "language_info": {
   "codemirror_mode": {
    "name": "ipython",
    "version": 3
   },
   "file_extension": ".py",
   "mimetype": "text/x-python",
   "name": "python",
   "nbconvert_exporter": "python",
   "pygments_lexer": "ipython3",
   "version": "3.12.5"
  }
 },
 "nbformat": 4,
 "nbformat_minor": 2
}
